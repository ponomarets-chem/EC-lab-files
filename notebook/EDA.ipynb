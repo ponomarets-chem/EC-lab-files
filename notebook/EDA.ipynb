# 🧭 Импорт библиотек и загрузка данных
from data_loader import load_and_cast

# Загружаем данные через готовый загрузчик
df = load_and_cast()

# Показываем первые строки
df.head()
# 📊 Completeness — полнота данных
# (доля непустых значений в каждой колонке)

completeness = 1 - df.isna().sum() / len(df)
print("=== Полнота данных по колонкам ===")
print(completeness)

print(f"\nСредняя полнота: {completeness.mean():.3f}")

if completeness.mean() >= 0.98:
    print("✅ Полнота данных соответствует критерию (≥ 0.98)")
else:
    print("⚠️ Полнота данных ниже порога 0.98 — проверьте пропуски")
# 🔑 Uniqueness — уникальность записей
# (проверяем уникальность идентификаторов)

if "id" in df.columns:
    uniqueness = df["id"].nunique() / len(df)
    print(f"Уникальность ID: {uniqueness:.3f}")
    if uniqueness == 1.0:
        print("✅ Все идентификаторы уникальны")
    else:
        print("⚠️ Есть повторяющиеся значения ID")
else:
    print("⚠️ Колонка 'id' не найдена, невозможно оценить уникальность")
